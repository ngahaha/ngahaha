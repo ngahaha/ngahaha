{
 "cells": [
  {
   "cell_type": "code",
   "execution_count": 1,
   "metadata": {},
   "outputs": [],
   "source": [
    "import numpy as np \n",
    "import pandas as pd \n",
    "import datetime as dt "
   ]
  },
  {
   "cell_type": "code",
   "execution_count": 2,
   "metadata": {},
   "outputs": [
    {
     "name": "stdout",
     "output_type": "stream",
     "text": [
      "['Donor ID', 'Donation Included Optional Donation', 'Donation Amount', 'Donor Cart Sequence', 'Donation Received Date']\n",
      "                           Donor ID Donation Included Optional Donation  \\\n",
      "0  1f4b5b6e68445c6c4a0509b3aca93f38                                  No   \n",
      "1  bd323208dc78b1c74b62664b768f3176                                 Yes   \n",
      "2  6dd6113f89f2766d3b0707ef2a46260c                                 Yes   \n",
      "\n",
      "   Donation Amount  Donor Cart Sequence Donation Received Date  \n",
      "0           178.37                   11    2016-08-23 13:15:57  \n",
      "1           200.00                    2    2013-02-17 21:36:24  \n",
      "2            10.00                   44    2013-02-27 10:32:22  \n"
     ]
    }
   ],
   "source": [
    "df=pd.read_csv('Donations.csv',sep=\" \")\n",
    "print(list(df.columns))\n",
    "df1=df[:10]\n",
    "\n",
    "#df1[\"Donation Amount\"]=df1[\"Donation Included Optional Donation\"].apply(lambda x: df1[\"Donation Amount\"]*0.15 if x==\"Yes\")\n",
    "\n",
    "#df1[\"Donation Amount\"].apply.haha(df1[\"Donation Included Optional Donation\"],df1[\"Donation Amount\"])\n",
    "\n",
    "print(df.head(3))"
   ]
  },
  {
   "cell_type": "code",
   "execution_count": null,
   "metadata": {},
   "outputs": [
    {
     "name": "stderr",
     "output_type": "stream",
     "text": [
      "C:\\Users\\Sally\\anaconda3\\lib\\site-packages\\ipykernel_launcher.py:3: SettingWithCopyWarning: \n",
      "A value is trying to be set on a copy of a slice from a DataFrame\n",
      "\n",
      "See the caveats in the documentation: https://pandas.pydata.org/pandas-docs/stable/user_guide/indexing.html#returning-a-view-versus-a-copy\n",
      "  This is separate from the ipykernel package so we can avoid doing imports until\n"
     ]
    }
   ],
   "source": [
    "for i in range(0,df.shape[0]):\n",
    "  if df['Donation Included Optional Donation'][i] ==\"Yes\":\n",
    "    df[\"Donation Amount\"][i]=df[\"Donation Amount\"][i]*0.85\n",
    "df.head(10)"
   ]
  },
  {
   "cell_type": "code",
   "execution_count": null,
   "metadata": {},
   "outputs": [],
   "source": [
    "df.head(10)"
   ]
  },
  {
   "cell_type": "code",
   "execution_count": null,
   "metadata": {},
   "outputs": [],
   "source": [
    "df.rename(columns={\"Donor ID\"=\"DonorID\",\"Donation Included Optional Donation\"=\"DIOD\", \"Donor Amount\"=\"Donor Amount\", \"Donor Cart Sequence\"=\"DonorCS\",\"Donation Received Date\"=\"DRD\"})\n",
    "df['DRD']=pd.to_datetime(df['DRD'])\n",
    "user = pd.DataFrame(df['DonorID'].unique())\n",
    "user.columns = ['DonorID']\n",
    "print(user.head())\n",
    "maxdate = df.groupby('DonorID').DRD.max().reset_index()\n",
    "maxdate.columns = ['DonorID','MaxDonationDate']\n",
    "print(maxdate.head())\n",
    "dff=pd.DataFrame({'date':['22/03/2020']})\n",
    "dff['date']=pd.to_datetime(dff['date'])\n",
    "maxdate['Numberofdays']=dff['date'].dt.days-df['MaxDonationDate'].max()\n",
    "user=pd.merge(user,maxdate['DonorID','Numberofdays'], on='DonorID')\n",
    "user.head()"
   ]
  },
  {
   "cell_type": "code",
   "execution_count": null,
   "metadata": {},
   "outputs": [],
   "source": [
    "substring='e0fe4d9b8def8a71635e65ba4ff5ef40'\n",
    "df1=user[user['DonorID'].str.contains(substring)]\n",
    "df1('Numberofdays')"
   ]
  },
  {
   "cell_type": "code",
   "execution_count": null,
   "metadata": {},
   "outputs": [],
   "source": [
    "frequency = df.groupby('DonorID').DRD.counts().reset_index()\n",
    "user=pd.merge(user,frequency,on='DonorID')\n",
    "user.head()"
   ]
  },
  {
   "cell_type": "code",
   "execution_count": null,
   "metadata": {},
   "outputs": [],
   "source": [
    "df1=user[user['DonorID'].str.contains(substring)]\n",
    "df1('frequency')"
   ]
  },
  {
   "cell_type": "code",
   "execution_count": null,
   "metadata": {},
   "outputs": [],
   "source": [
    "revenue = df.groupby('DonorID').DonationAmount.sum().reset_index()\n",
    "user=pd.merge(user,revenue,on='DonorID')\n",
    "user.head()"
   ]
  },
  {
   "cell_type": "code",
   "execution_count": null,
   "metadata": {},
   "outputs": [],
   "source": [
    "df1=user[user['DonorID'].str.contains(substring)]\n",
    "df1('revenue')"
   ]
  },
  {
   "cell_type": "code",
   "execution_count": null,
   "metadata": {},
   "outputs": [],
   "source": []
  },
  {
   "cell_type": "code",
   "execution_count": null,
   "metadata": {},
   "outputs": [],
   "source": [
    "RFM = RFM.set_index('CustomerID')\n",
    "RFM.head()\n",
    "rfm = RFM\n",
    "rfm['r_quartile'] = pd.qcut(rfm['Recency'], 4, ['1','2','3','4'])\n",
    "rfm['f_quartile'] = pd.qcut(rfm['Frequency'], 4, ['4','3','2','1'])\n",
    "rfm['m_quartile'] = pd.qcut(rfm['Revenue'], 4, ['4','3','2','1'])\n",
    "rfm.head()\n",
    "rfm.r_quartile.unique()\n",
    "rfm['sumup']=sum(rfm['r_quartile'],rfm['f_quartile'],rfm['m_quartile'])\n",
    "rfm.head()"
   ]
  },
  {
   "cell_type": "code",
   "execution_count": null,
   "metadata": {},
   "outputs": [],
   "source": [
    "import plotly.express as px\n",
    "from random import randint\n",
    "\n",
    "fig = px.scatter_3d(user, x='revenue', y='frequency', z='recency')\n",
    "fig.show()"
   ]
  },
  {
   "cell_type": "code",
   "execution_count": null,
   "metadata": {},
   "outputs": [],
   "source": [
    "user.describe()"
   ]
  },
  {
   "cell_type": "code",
   "execution_count": null,
   "metadata": {},
   "outputs": [],
   "source": []
  },
  {
   "cell_type": "code",
   "execution_count": null,
   "metadata": {},
   "outputs": [],
   "source": [
    "#exercise2"
   ]
  },
  {
   "cell_type": "code",
   "execution_count": null,
   "metadata": {},
   "outputs": [],
   "source": []
  },
  {
   "cell_type": "code",
   "execution_count": null,
   "metadata": {},
   "outputs": [],
   "source": []
  },
  {
   "cell_type": "code",
   "execution_count": null,
   "metadata": {},
   "outputs": [],
   "source": []
  },
  {
   "cell_type": "code",
   "execution_count": null,
   "metadata": {},
   "outputs": [],
   "source": []
  },
  {
   "cell_type": "code",
   "execution_count": null,
   "metadata": {},
   "outputs": [],
   "source": []
  }
 ],
 "metadata": {
  "kernelspec": {
   "display_name": "Python 3",
   "language": "python",
   "name": "python3"
  },
  "language_info": {
   "codemirror_mode": {
    "name": "ipython",
    "version": 3
   },
   "file_extension": ".py",
   "mimetype": "text/x-python",
   "name": "python",
   "nbconvert_exporter": "python",
   "pygments_lexer": "ipython3",
   "version": "3.7.6"
  }
 },
 "nbformat": 4,
 "nbformat_minor": 4
}
